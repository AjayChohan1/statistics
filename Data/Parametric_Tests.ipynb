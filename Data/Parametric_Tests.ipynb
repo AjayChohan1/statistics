{
 "cells": [
  {
   "cell_type": "markdown",
   "id": "65cc2f8d",
   "metadata": {},
   "source": [
    "# Statistical Tests - Topic 02: Parametric Statistical Tests"
   ]
  },
  {
   "cell_type": "markdown",
   "id": "d7063b34",
   "metadata": {},
   "source": [
    "## Topic Objectives\n",
    "Use and interpret statistical tests using T-test, Paired T-test and ANOVA"
   ]
  },
  {
   "cell_type": "code",
   "execution_count": null,
   "id": "d12f7fed",
   "metadata": {},
   "outputs": [],
   "source": [
    "import numpy as np\n",
    "import pandas as pd\n",
    "import matplotlib.pyplot as plt\n",
    "import seaborn as sns\n",
    "sns.set_style('whitegrid')\n",
    "import pingouin as pg\n",
    "import scipy"
   ]
  },
  {
   "cell_type": "markdown",
   "id": "3cf06106",
   "metadata": {},
   "source": [
    "## T-test: Comparing two independent groups"
   ]
  },
  {
   "cell_type": "code",
   "execution_count": null,
   "id": "8afbde5b",
   "metadata": {},
   "outputs": [],
   "source": [
    "np.random.seed(123)\n",
    "size = 250\n",
    "df = pd.DataFrame(data={'Col1': np.random.normal(loc=7, scale=1, size=size),\n",
    "                        \"Col2\": np.random.normal(loc=8, scale=1.2, size=size)})\n",
    "df.head()"
   ]
  },
  {
   "cell_type": "code",
   "execution_count": null,
   "id": "34df2a97",
   "metadata": {},
   "outputs": [],
   "source": [
    "pg.normality(data=df, alpha=0.05)"
   ]
  },
  {
   "cell_type": "code",
   "execution_count": null,
   "id": "99976f28",
   "metadata": {},
   "outputs": [],
   "source": [
    "fig, axes = plt.subplots(nrows=1 ,ncols=2 ,figsize=(12,5))\n",
    "sns.histplot(data=df, kde=True, ax=axes[0])\n",
    "for col in df.columns: \n",
    "    axes[0].axvline(df[col].mean(), color='r', linestyle='dashed', linewidth=1)\n",
    "sns.boxplot(data=df, ax=axes[1])\n",
    "plt.show()"
   ]
  },
  {
   "cell_type": "code",
   "execution_count": null,
   "id": "a784e1a4",
   "metadata": {},
   "outputs": [],
   "source": [
    "ttest_result = pg.ttest(x=df['Col1'], y=df['Col2'])\n",
    "print(ttest_result)\n",
    "ttest_result.loc['T-test','p-val']"
   ]
  },
  {
   "cell_type": "markdown",
   "id": "078e1cb3",
   "metadata": {},
   "source": [
    "## Another T-test example"
   ]
  },
  {
   "cell_type": "code",
   "execution_count": null,
   "id": "573a0f73",
   "metadata": {},
   "outputs": [],
   "source": [
    "np.random.seed(3)\n",
    "size = 250\n",
    "df = pd.DataFrame(data={'Col3':  np.random.normal(loc=7, scale=1, size=size),\n",
    "                        \"Col4\":np.random.normal(loc=7.2, scale=1, size=size)})\n",
    "pg.normality(df, alpha=0.05)"
   ]
  },
  {
   "cell_type": "code",
   "execution_count": null,
   "id": "c260f1d7",
   "metadata": {},
   "outputs": [],
   "source": [
    "fig, axes = plt.subplots(nrows=1 ,ncols=2 ,figsize=(12,5))\n",
    "sns.histplot(data=df, kde=True, ax=axes[0])\n",
    "for col in df.columns: \n",
    "    axes[0].axvline(df[col].mean(), color='r', linestyle='dashed', linewidth=1)\n",
    "sns.boxplot(data=df, ax=axes[1])\n",
    "plt.show()"
   ]
  },
  {
   "cell_type": "code",
   "execution_count": null,
   "id": "0ffab3c1",
   "metadata": {},
   "outputs": [],
   "source": [
    "pg.ttest(df['Col3'],df['Col4']).loc['T-test','p-val']"
   ]
  },
  {
   "cell_type": "markdown",
   "id": "ae833e73",
   "metadata": {},
   "source": [
    "## Paired T-test: Comparing same group across two time points"
   ]
  },
  {
   "cell_type": "code",
   "execution_count": null,
   "id": "cb2f5e57",
   "metadata": {},
   "outputs": [],
   "source": [
    "df = (pg.read_dataset('mixed_anova')\n",
    "    .query(\"Group == 'Meditation' and Time != 'January'\")\n",
    "    .drop(['Group'], axis=1)\n",
    "    .reset_index(drop=True))\n",
    "df['Month'] = df['Time'].replace({\"August\":8, \"June\":6})\n",
    "df.sort_values(by='Month', ascending=True, inplace=True)\n",
    "pg.normality(data=df, dv='Scores', group='Month', alpha=0.05)"
   ]
  },
  {
   "cell_type": "code",
   "execution_count": null,
   "id": "399ae046",
   "metadata": {},
   "outputs": [],
   "source": [
    "pg.pairwise_ttests(data=df, dv='Scores', within='Month', subject='Subject', effsize='cohen').loc[0,'p-unc']"
   ]
  },
  {
   "cell_type": "code",
   "execution_count": null,
   "id": "c5d37106",
   "metadata": {},
   "outputs": [],
   "source": [
    "pg.plot_paired(data=df, dv='Scores', within='Month', subject='Subject', dpi=150)\n",
    "plt.show()"
   ]
  },
  {
   "cell_type": "markdown",
   "id": "77594f1c",
   "metadata": {},
   "source": [
    "## Paired T-test: Comparing group across three months"
   ]
  },
  {
   "cell_type": "code",
   "execution_count": null,
   "id": "1b03d85f",
   "metadata": {},
   "outputs": [],
   "source": [
    "df = (pg.read_dataset('mixed_anova')\n",
    "    .query(\"Group == 'Meditation'\")\n",
    "    .drop(['Group'], axis=1))\n",
    "df['Month'] = df['Time'].replace({\"January\":1, \"June\":6, \"August\":8})\n",
    "df.sort_values(by='Month', ascending=True, inplace=True)\n",
    "pg.normality(data=df, dv='Scores', group='Month', alpha=0.05)"
   ]
  },
  {
   "cell_type": "code",
   "execution_count": null,
   "id": "4ceca6dd",
   "metadata": {},
   "outputs": [],
   "source": [
    "pg.pairwise_ttests(data=df, dv='Scores', within='Month', subject='Subject', effsize='cohen')"
   ]
  },
  {
   "cell_type": "code",
   "execution_count": null,
   "id": "0f7c1563",
   "metadata": {},
   "outputs": [],
   "source": [
    "pg.plot_paired(data=df, dv='Scores', within='Month', subject='Subject', dpi=150)\n",
    "plt.show()"
   ]
  },
  {
   "cell_type": "markdown",
   "id": "942fa3ea",
   "metadata": {},
   "source": [
    "## ANOVA: Comparing multiple independent groups"
   ]
  },
  {
   "cell_type": "code",
   "execution_count": null,
   "id": "f77e32c4",
   "metadata": {},
   "outputs": [],
   "source": [
    "df = pg.read_dataset('anova')\n",
    "pg.normality(df, dv='Pain threshold',group='Hair color', alpha=0.05)"
   ]
  },
  {
   "cell_type": "code",
   "execution_count": null,
   "id": "e253e0eb",
   "metadata": {},
   "outputs": [],
   "source": [
    "fig, axes = plt.subplots(nrows=1, ncols=2, figsize=(14,5))\n",
    "sns.boxplot(data=df,x=\"Hair color\", y=\"Pain threshold\", ax=axes[0])\n",
    "sns.swarmplot(data=df,x=\"Hair color\", y=\"Pain threshold\", dodge=True, ax=axes[1])\n",
    "plt.show()"
   ]
  },
  {
   "cell_type": "code",
   "execution_count": null,
   "id": "f69c7c18",
   "metadata": {},
   "outputs": [],
   "source": [
    "pg.anova(data=df, dv='Pain threshold', between='Hair color', detailed=True)"
   ]
  }
 ],
 "metadata": {},
 "nbformat": 4,
 "nbformat_minor": 5
}
