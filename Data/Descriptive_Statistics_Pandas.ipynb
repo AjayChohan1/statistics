{
 "cells": [
  {
   "cell_type": "markdown",
   "metadata": {},
   "source": [
    "# 📊 Descriptive Statistics with Pandas\n",
    "Learn how to explore data using Pandas, NumPy, and Seaborn."
   ]
  },
  {
   "cell_type": "code",
   "execution_count": null,
   "metadata": {},
   "outputs": [],
   "source": [
    "import pandas as pd\n",
    "import numpy as np\n",
    "import seaborn as sns\n",
    "import matplotlib.pyplot as plt\n",
    "\n",
    "# Optional: Set seaborn style\n",
    "sns.set(style=\"whitegrid\")"
   ]
  },
  {
   "cell_type": "code",
   "execution_count": null,
   "metadata": {},
   "outputs": [],
   "source": [
    "# Sample dataset\n",
    "data = {\n",
    "    'Product': ['A', 'B', 'C', 'D', 'E'],\n",
    "    'Sales': [120, 340, 200, 150, 310],\n",
    "    'Quantity': [10, 25, 15, 12, 20]\n",
    "}\n",
    "\n",
    "df = pd.DataFrame(data)\n",
    "df"
   ]
  },
  {
   "cell_type": "markdown",
   "metadata": {},
   "source": [
    "## 📋 Summary Statistics using `.describe()`"
   ]
  },
  {
   "cell_type": "code",
   "execution_count": null,
   "metadata": {},
   "outputs": [],
   "source": [
    "df.describe()"
   ]
  },
  {
   "cell_type": "markdown",
   "metadata": {},
   "source": [
    "## 📌 Central Tendency: Mean, Median, Mode"
   ]
  },
  {
   "cell_type": "code",
   "execution_count": null,
   "metadata": {},
   "outputs": [],
   "source": [
    "# Mean\n",
    "print(\"Mean Sales:\", df['Sales'].mean())\n",
    "\n",
    "# Median\n",
    "print(\"Median Quantity:\", df['Quantity'].median())\n",
    "\n",
    "# Mode\n",
    "print(\"Mode of Quantity:\", df['Quantity'].mode()[0])"
   ]
  },
  {
   "cell_type": "markdown",
   "metadata": {},
   "source": [
    "## 📉 Spread: Standard Deviation and IQR"
   ]
  },
  {
   "cell_type": "code",
   "execution_count": null,
   "metadata": {},
   "outputs": [],
   "source": [
    "# Standard deviation\n",
    "print(\"Standard Deviation of Sales:\", df['Sales'].std())\n",
    "\n",
    "# Interquartile Range (IQR)\n",
    "Q1 = df['Sales'].quantile(0.25)\n",
    "Q3 = df['Sales'].quantile(0.75)\n",
    "IQR = Q3 - Q1\n",
    "print(\"IQR of Sales:\", IQR)"
   ]
  },
  {
   "cell_type": "markdown",
   "metadata": {},
   "source": [
    "## 📊 Visualizing the Data Distribution"
   ]
  },
  {
   "cell_type": "code",
   "execution_count": null,
   "metadata": {},
   "outputs": [],
   "source": [
    "# Histogram\n",
    "sns.histplot(df['Sales'], kde=True)\n",
    "plt.title(\"Sales Distribution\")\n",
    "plt.show()\n",
    "\n",
    "# Boxplot\n",
    "sns.boxplot(y=df['Sales'])\n",
    "plt.title(\"Boxplot of Sales\")\n",
    "plt.show()"
   ]
  },
  {
   "cell_type": "markdown",
   "metadata": {},
   "source": [
    "## 📈 Skewness"
   ]
  },
  {
   "cell_type": "code",
   "execution_count": null,
   "metadata": {},
   "outputs": [],
   "source": [
    "print(\"Skewness of Sales:\", df['Sales'].skew())"
   ]
  },
  {
   "cell_type": "markdown",
   "metadata": {},
   "source": [
    "## 📁 Optional: Load a Retail Dataset"
   ]
  },
  {
   "cell_type": "code",
   "execution_count": null,
   "metadata": {},
   "outputs": [],
   "source": [
    "# Replace with your own CSV file path\n",
    "df = pd.read_csv('your_dataset.csv')\n",
    "df.head()"
   ]
  }
 ],
 "metadata": {
  "kernelspec": {
   "display_name": "Python 3",
   "language": "python",
   "name": "python3"
  },
  "language_info": {
   "name": "python",
   "version": "3.11.4",
   "mimetype": "text/x-python",
   "codemirror_mode": {
    "name": "ipython",
    "version": 3
   },
   "pygments_lexer": "ipython3",
   "nbconvert_exporter": "python",
   "file_extension": ".py"
  }
 },
 "nbformat": 4,
 "nbformat_minor": 5
}
