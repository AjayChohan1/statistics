{
 "cells": [
  {
   "cell_type": "markdown",
   "metadata": {},
   "source": [
    "# Statistical Tests - Topic 01: Overview, Shapiro and Chi-Squared\n",
    "\n",
    "### Lesson Learning Outcome\n",
    "The Statistical Tests Lesson consists of 3 units.\n",
    "By the end of this lesson, you should be able to:\n",
    "- Use the concepts within a Statistical Test\n",
    "- Use and interpret statistical tests including Shapiro-Wilk, Chi-Squared, T-test, Paired T-Test, ANOVA, Mann-Whitney, Wilcoxon and Kruskal-Wallis test\n",
    "\n",
    "### Topic Objectives\n",
    "- Use the concepts within a Statistical Test\n",
    "- Use and interpret statistical Shapiro-Wilk and Chi-Squared tests\n",
    "\n",
    "### Why do we study Statistical Tests?\n",
    "Because we can determine the differences or similarities between groups. We can also evaluate if a predictor variable is statistically important to a target variable.\n",
    "A difference between groups can sometimes be seen or measured but exists due to random chance. Statistical significance is a determination that a relationship between two or more variables is caused by something other than chance."
   ]
  },
  {
   "cell_type": "markdown",
   "metadata": {},
   "source": [
    "### Additional Context for Learning\n",
    "- Add code cells and try other options, play around with parameter values in a function/method, or consider additional function parameters etc.\n",
    "- Also, add your comments to the cells. It can help you to consolidate your learning.\n",
    "- Functions may have mandatory, default, or optional parameters; check package docs for details.\n",
    "\n",
    "Useful documentation:\n",
    "- [Pandas Documentation](https://pandas.pydata.org/pandas-docs/stable/)\n",
    "- [Pingouin Documentation](https://pingouin-stats.org/)"
   ]
  },
  {
   "cell_type": "code",
   "execution_count": null,
   "metadata": {},
   "outputs": [],
   "source": [
    "# Import required packages\n",
    "import numpy as np\n",
    "import pandas as pd\n",
    "import matplotlib.pyplot as plt\n",
    "import seaborn as sns\n",
    "sns.set_style('whitegrid')\n",
    "import pingouin as pg\n",
    "import scipy.stats as stats"
   ]
  },
  {
   "cell_type": "markdown",
   "metadata": {},
   "source": [
    "### Statistical Tests Overview\n",
    "A statistical test has a mechanism to make a decision about a process.\n",
    "\n",
    "The idea is to see if there is enough evidence to accept or reject a hypothesis about the process."
   ]
  },
  {
   "cell_type": "markdown",
   "metadata": {},
   "source": [
    "### Hypothesis Testing\n",
    "Hypothesis testing helps form conclusions from data:\n",
    "- Null Hypothesis (H0): Usually states no difference between groups.\n",
    "- Alternative Hypothesis (H1): States there is a difference.\n",
    "\n",
    "We compare observed data to what we expect under H0."
   ]
  },
  {
   "cell_type": "markdown",
   "metadata": {},
   "source": [
    "### Significance Level (alpha)\n",
    "- The chance of rejecting the null hypothesis when it is true.\n",
    "- Usually set to 0.05 (5%).\n",
    "- Lower alpha means stricter test (used in high stakes research)."
   ]
  },
  {
   "cell_type": "markdown",
   "metadata": {},
   "source": [
    "### Test Statistic\n",
    "A number describing how different groups are in your data.\n",
    "The formula differs depending on the test."
   ]
  },
  {
   "cell_type": "markdown",
   "metadata": {},
   "source": [
    "### P-value\n",
    "- Probability that the null hypothesis is true.\n",
    "- Smaller p-value means stronger evidence against H0.\n",
    "- Decision rule:\n",
    "  - If p-value < alpha: reject H0\n",
    "  - Else: fail to reject H0"
   ]
  },
  {
   "cell_type": "markdown",
   "metadata": {},
   "source": [
    "## Shapiro-Wilk Test for Normality\n",
    "- Null hypothesis: data is normally distributed\n",
    "- Alternative: data is not normally distributed\n",
    "- If p-value < alpha (0.05), reject null hypothesis."
   ]
  },
  {
   "cell_type": "code",
   "execution_count": null,
   "metadata": {},
   "outputs": [],
   "source": [
    "# Generate example data\n",
    "from scipy.stats import skewnorm\n",
    "np.random.seed(1)\n",
    "size = 200\n",
    "\n",
    "X1 = np.random.normal(loc=40, scale=2, size=int(size/2))\n",
    "X2 = np.random.normal(loc=10, scale=4, size=int(size/2))\n",
    "bi_modal = np.concatenate([X1, X2])\n",
    "\n",
    "X1 = np.random.normal(loc=40, scale=4, size=int(size/4))\n",
    "X2 = np.random.normal(loc=10, scale=4, size=int(size/4))\n",
    "X3 = np.random.normal(loc=0, scale=2, size=int(size/4))\n",
    "X4 = np.random.normal(loc=80, scale=2, size=int(size/4))\n",
    "multi_modal = np.concatenate([X1, X2, X3, X4])\n",
    "\n",
    "df = pd.DataFrame(data={\n",
    "    'Normal': np.random.normal(loc=0, scale=2, size=size),\n",
    "    'Positive Skewed': skewnorm.rvs(a=10, size=size),\n",
    "    'Negative Skewed': skewnorm.rvs(a=-10, size=size),\n",
    "    'Exponential': np.random.exponential(scale=20, size=size),\n",
    "    'Uniform': np.random.uniform(low=0.0, high=1.0, size=size),\n",
    "    'Bimodal': bi_modal,\n",
    "    'Multimodal': multi_modal,\n",
    "    'Poisson': np.random.poisson(lam=1.0, size=size),\n",
    "    'Discrete': np.random.choice([10,12,14,15,16,17,20], size=size)\n",
    "}).round(3)\n",
    "\n",
    "df.head(3)"
   ]
  },
  {
   "cell_type": "markdown",
   "metadata": {},
   "source": [
    "### Visualize distributions with boxplot and histogram"
   ]
  },
  {
   "cell_type": "code",
   "execution_count": null,
   "metadata": {},
   "outputs": [],
   "source": [
    "for col in df.columns:\n",
    "    fig, axes = plt.subplots(nrows=2, ncols=1, figsize=(7,7), gridspec_kw={\"height_ratios\": (.15, .85)})\n",
    "    sns.boxplot(data=df, x=col, ax=axes[0])\n",
    "    axes[0].set_xlabel('')\n",
    "    sns.histplot(data=df, x=col, kde=True, ax=axes[1])\n",
    "    fig.suptitle(f\"{col} Distribution - Boxplot and Histogram\")\n",
    "    plt.show()\n",
    "    print(\"\\n\\n\")"
   ]
  },
  {
   "cell_type": "markdown",
   "metadata": {},
   "source": [
    "### Use pingouin to test if variables are normally distributed\n",
    "We test all numerical columns at once"
   ]
  },
  {
   "cell_type": "code",
   "execution_count": null,
   "metadata": {},
   "outputs": [],
   "source": [
    "pg.normality(data=df, alpha=0.05)"
   ]
  },
  {
   "cell_type": "markdown",
   "metadata": {},
   "source": [
    "### Example: Penguins dataset\n",
    "Check if `bill_length_mm` is normally distributed across species"
   ]
  },
  {
   "cell_type": "code",
   "execution_count": null,
   "metadata": {},
   "outputs": [],
   "source": [
    "df_penguins = sns.load_dataset('penguins')\n",
    "print(df_penguins.shape)\n",
    "df_penguins.head(3)"
   ]
  },
  {
   "cell_type": "code",
   "execution_count": null,
   "metadata": {},
   "outputs": [],
   "source": [
    "pg.normality(data=df_penguins, dv='bill_length_mm', group='species', alpha=0.05)"
   ]
  },
  {
   "cell_type": "code",
   "execution_count": null,
   "metadata": {},
   "outputs": [],
   "source": [
    "# Check normality of bill_length_mm overall\n",
    "pg.normality(data=df_penguins['bill_length_mm'], alpha=0.05)"
   ]
  },
  {
   "cell_type": "markdown",
   "metadata": {},
   "source": [
    "### Plot histograms for bill_length_mm\n",
    "Overall and grouped by species"
   ]
  },
  {
   "cell_type": "code",
   "execution_count": null,
   "metadata": {},
   "outputs": [],
   "source": [
    "fig, axes = plt.subplots(nrows=1, ncols=2, figsize=(15,7))\n",
    "sns.histplot(data=df_penguins, x='bill_length_mm', kde=True, ax=axes[0])\n",
    "sns.histplot(data=df_penguins, x='bill_length_mm', hue='species', kde=True, palette='Set2', ax=axes[1])\n",
    "plt.show()"
   ]
  },
  {
   "cell_type": "markdown",
   "metadata": {},
   "source": [
    "## Chi-Squared Test (Goodness of Fit)\n",
    "Tests if observed frequencies differ from expected frequencies in categorical data."
   ]
  },
  {
   "cell_type": "markdown",
   "metadata": {},
   "source": [
    "**Hypotheses:**\n",
    "- Null: No difference in frequency/proportion\n",
    "- Alternative: There is a difference\n",
    "\n",
    "### Example dataset from pingouin on heart disease"
   ]
  },
  {
   "cell_type": "code",
   "execution_count": null,
   "metadata": {},
   "outputs": [],
   "source": [
    "df_hd = pg.read_dataset('chi2_independence')\n",
    "print(df_hd.shape)\n",
    "df_hd.head()"
   ]
  },
  {
   "cell_type": "code",
   "execution_count": null,
   "metadata": {},
   "outputs": [],
   "source": [
    "# Check target value counts\n",
    "df_hd['target'].value_counts()"
   ]
  },
  {
   "cell_type": "markdown",
   "metadata": {},
   "source": [
    "### Does fasting blood sugar (fbs) predict heart disease (target)?"
   ]
  },
  {
   "cell_type": "code",
   "execution_count": null,
   "metadata": {},
   "outputs": [],
   "source": [
    "sns.countplot(x='fbs', hue='target', data=df_hd)\n",
    "plt.title('Fasting Blood Sugar (fbs) by Heart Disease (target)')\n",
    "plt.show()"
   ]
  },
  {
   "cell_type": "markdown",
   "metadata": {},
   "source": [
    "### Chi-Squared test for independence\n",
    "Is fbs independent of target?"
   ]
  },
  {
   "cell_type": "code",
   "execution_count": null,
   "metadata": {},
   "outputs": [],
   "source": [
    "chi2_result = pg.chi2_independence(data=df_hd, x='fbs', y='target')\n",
    "chi2_result"
   ]
  },
  {
   "cell_type": "markdown",
   "metadata": {},
   "source": [
    "### Interpretation:\n",
    "- p-value < 0.05 means we reject null hypothesis.\n",
    "- fbs and target are NOT independent; fasting blood sugar is associated with heart disease.\n"
   ]
  }
 ],
 "metadata": {
  "kernelspec": {
   "display_name": "Python 3",
   "language": "python",
   "name": "python3"
  },
  "language_info": {
   "name": "python",
   "version": "3.10"
  }
 },
 "nbformat": 4,
 "nbformat_minor": 5
}
