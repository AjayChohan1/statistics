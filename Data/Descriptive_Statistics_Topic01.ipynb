{
 "cells": [
  {
   "cell_type": "markdown",
   "id": "47588713",
   "metadata": {},
   "source": [
    "# Descriptive Statistics - Topic 01: Overview"
   ]
  },
  {
   "cell_type": "markdown",
   "id": "970f9fe3",
   "metadata": {},
   "source": [
    "## Lesson Learning Outcome"
   ]
  },
  {
   "cell_type": "markdown",
   "id": "499831a4",
   "metadata": {},
   "source": [
    "**Descriptive statistics** lesson consists of four topics. By the end of this lesson, you should be able to:\n",
    "\n",
    "- Describe the concepts around descriptive statistics, including outliers\n",
    "- Identify the concepts of Central tendency and Variability\n",
    "- Visualise your data to understand better\n",
    "- Apply descriptive statistics to Numerical and Categorical Data\n",
    "\n",
    "### Topic Objectives\n",
    "- Recognise the major concepts around descriptive statistics\n",
    "\n",
    "We will mainly use **Pandas** for this lesson. We will use **Pingouin** (an open-source statistical package based mostly on Pandas and NumPy) for Q-Q plots (quantile–quantile plots).\n",
    "\n",
    "**Descriptive statistics** provide a simple summary of the sample. It can be either quantitative or visual. It provides the basis for analysis and enables additional and more extensive investigations."
   ]
  },
  {
   "cell_type": "markdown",
   "id": "2478ddf1",
   "metadata": {},
   "source": [
    "## Why do we study Descriptive Statistics?\n",
    "Because **Data Analytics is based on statistical models**, understanding your data profile is critical to select the appropriate test that best fits your data."
   ]
  },
  {
   "cell_type": "markdown",
   "id": "8fceb7f7",
   "metadata": {},
   "source": [
    "### Additional Context for Learning\n",
    "- Add code cells and try out other techniques\n",
    "- Play around with parameter values\n",
    "- Add your own comments to cells to consolidate your learning\n",
    "\n",
    "### Function Parameters\n",
    "- Some are mandatory\n",
    "- Some have pre-defined values\n",
    "- Others are optional\n",
    "\n",
    "📘 Refer to the respective package documentation. For Pandas, see: https://pandas.pydata.org/docs/"
   ]
  },
  {
   "cell_type": "markdown",
   "id": "9ef645d4",
   "metadata": {},
   "source": [
    "## Topic 01: Descriptive Statistics Overview\n",
    "**Concepts covered:**\n",
    "- Distribution\n",
    "- Data type\n",
    "- Descriptive Statistics\n",
    "- Population and Sample\n",
    "- Outlier"
   ]
  },
  {
   "cell_type": "markdown",
   "id": "c6f389df",
   "metadata": {},
   "source": [
    "### What is Distribution?\n",
    "`Distribution` in statistics means the spread of values across a range. It's a function showing the possible values of a variable and how often they occur."
   ]
  },
  {
   "cell_type": "markdown",
   "id": "e56bc708",
   "metadata": {},
   "source": [
    "## Data Types\n",
    "A **variable** is any characteristic or number that can be measured or counted.\n",
    "\n",
    "**Main types:**\n",
    "- Numerical\n",
    "- Categorical"
   ]
  },
  {
   "cell_type": "markdown",
   "id": "57500243",
   "metadata": {},
   "source": [
    "### Numerical Data\n",
    "- **Discrete:** Only specific values (e.g. shoe size, count of visits)\n",
    "- **Continuous:** Any value in a range (e.g. time, price)"
   ]
  },
  {
   "cell_type": "markdown",
   "id": "8cbe5fd5",
   "metadata": {},
   "source": [
    "### Categorical Data\n",
    "- **Nominal:** No specific order (e.g. colours)\n",
    "- **Ordinal:** Have an order (e.g. grades, days of the week)\n",
    "- Categorical data may be encoded as numbers (e.g. 0 = fail, 1 = pass), but context matters."
   ]
  },
  {
   "cell_type": "markdown",
   "id": "9de921fd",
   "metadata": {},
   "source": [
    "## Descriptive Statistics\n",
    "Describing and summarising data:\n",
    "\n",
    "- **Quantitative** (numerical summary)\n",
    "- **Graphical** (plots)\n",
    "\n",
    "**Types:**\n",
    "- Univariate (one variable)\n",
    "- Bivariate (two variables)\n",
    "- Multivariate (more than two)"
   ]
  },
  {
   "cell_type": "markdown",
   "id": "5fbafab6",
   "metadata": {},
   "source": [
    "### Two Major Areas:\n",
    "- **Central Tendency** (e.g. mean, median, mode)\n",
    "- **Variability** (e.g. standard deviation, variance)"
   ]
  },
  {
   "cell_type": "markdown",
   "id": "f2bc2108",
   "metadata": {},
   "source": [
    "## Population vs Sample\n",
    "- **Population:** All elements of a dataset\n",
    "- **Sample:** Subset of the population\n",
    "\n",
    "Using samples allows statistical inference with less cost and effort."
   ]
  },
  {
   "cell_type": "markdown",
   "id": "e4fe947d",
   "metadata": {},
   "source": [
    "## Outliers\n",
    "**Outliers** are data points significantly different from others. They could be due to:\n",
    "- New natural behaviour\n",
    "- Data entry error\n",
    "- Equipment or human error\n",
    "- Bias\n",
    "\n",
    "Identifying outliers requires context. A later lesson will cover how to handle them."
   ]
  },
  {
   "cell_type": "code",
   "execution_count": 1,
   "id": "27e17cb1",
   "metadata": {},
   "outputs": [
    {
     "data": {
      "image/png": "[encoded data removed]",
      "text/plain": [
       "<Figure size 640x480 with 1 Axes>"
      ]
     },
     "metadata": {},
     "output_type": "display_data"
    },
    {
     "data": {
      "text/html": [
       "<div>\n",
       "<style scoped>\n",
       "    .dataframe tbody tr th:only-of-type {\n",
       "        vertical-align: middle;\n",
       "    }\n",
       "\n",
       "    .dataframe tbody tr th {\n",
       "        vertical-align: top;\n",
       "    }\n",
       "\n",
       "    .dataframe thead th {\n",
       "        text-align: right;\n",
       "    }\n",
       "</style>\n",
       "<table border=\"1\" class=\"dataframe\">\n",
       "  <thead>\n",
       "    <tr style=\"text-align: right;\">\n",
       "      <th></th>\n",
       "      <th>A</th>\n",
       "      <th>B</th>\n",
       "    </tr>\n",
       "  </thead>\n",
       "  <tbody>\n",
       "    <tr>\n",
       "      <th>0</th>\n",
       "      <td>2</td>\n",
       "      <td>8</td>\n",
       "    </tr>\n",
       "    <tr>\n",
       "      <th>1</th>\n",
       "      <td>2</td>\n",
       "      <td>6</td>\n",
       "    </tr>\n",
       "    <tr>\n",
       "      <th>2</th>\n",
       "      <td>1</td>\n",
       "      <td>5</td>\n",
       "    </tr>\n",
       "    <tr>\n",
       "      <th>3</th>\n",
       "      <td>4</td>\n",
       "      <td>5</td>\n",
       "    </tr>\n",
       "    <tr>\n",
       "      <th>4</th>\n",
       "      <td>6</td>\n",
       "      <td>7</td>\n",
       "    </tr>\n",
       "  </tbody>\n",
       "</table>\n",
       "</div>"
      ],
      "text/plain": [
       "   A  B\n",
       "0  2  8\n",
       "1  2  6\n",
       "2  1  5\n",
       "3  4  5\n",
       "4  6  7"
      ]
     },
     "execution_count": 1,
     "metadata": {},
     "output_type": "execute_result"
    }
   ],
   "source": [
    "import pandas as pd\n",
    "import numpy as np\n",
    "import matplotlib.pyplot as plt\n",
    "\n",
    "# Create a DataFrame with column A of random integers\n",
    "df = pd.DataFrame(np.random.randint(1, 7, 6000), columns=['A'])\n",
    "\n",
    "# Add column B\n",
    "df['B'] = df['A'] + np.random.randint(1, 7, 6000)\n",
    "\n",
    "# Plot a histogram of the frequency of each integer in columns A and B\n",
    "ax = df.plot.hist(bins=12, alpha=0.5)\n",
    "plt.title('Distribution of A and B')\n",
    "plt.show()\n",
    "\n",
    "df.head()"
   ]
  },
  {
   "cell_type": "code",
   "execution_count": 2,
   "id": "623bc6d1",
   "metadata": {},
   "outputs": [
    {
     "name": "stdout",
     "output_type": "stream",
     "text": [
      "Price                                     float64\n",
      "Number of times you went to the market      int64\n",
      "Colour                                     object\n",
      "dtype: object\n"
     ]
    },
    {
     "data": {
      "text/html": [
       "<div>\n",
       "<style scoped>\n",
       "    .dataframe tbody tr th:only-of-type {\n",
       "        vertical-align: middle;\n",
       "    }\n",
       "\n",
       "    .dataframe tbody tr th {\n",
       "        vertical-align: top;\n",
       "    }\n",
       "\n",
       "    .dataframe thead th {\n",
       "        text-align: right;\n",
       "    }\n",
       "</style>\n",
       "<table border=\"1\" class=\"dataframe\">\n",
       "  <thead>\n",
       "    <tr style=\"text-align: right;\">\n",
       "      <th></th>\n",
       "      <th>Price</th>\n",
       "      <th>Number of times you went to the market</th>\n",
       "      <th>Colour</th>\n",
       "    </tr>\n",
       "  </thead>\n",
       "  <tbody>\n",
       "    <tr>\n",
       "      <th>0</th>\n",
       "      <td>52.34</td>\n",
       "      <td>1</td>\n",
       "      <td>red</td>\n",
       "    </tr>\n",
       "  </tbody>\n",
       "</table>\n",
       "</div>"
      ],
      "text/plain": [
       "   Price  Number of times you went to the market Colour\n",
       "0  52.34                                       1    red"
      ]
     },
     "execution_count": 2,
     "metadata": {},
     "output_type": "execute_result"
    }
   ],
   "source": [
    "df = pd.DataFrame({\n",
    "    'Price': [52.34],\n",
    "    'Number of times you went to the market': [1],\n",
    "    'Colour': ['red']\n",
    "})\n",
    "print(df.dtypes)\n",
    "df"
   ]
  },
  {
   "cell_type": "code",
   "execution_count": null,
   "id": "3d86ba68",
   "metadata": {},
   "outputs": [],
   "source": []
  }
 ],
 "metadata": {
  "kernelspec": {
   "display_name": "Python 3",
   "language": "python",
   "name": "python3"
  },
  "language_info": {
   "codemirror_mode": {
    "name": "ipython",
    "version": 3
   },
   "file_extension": ".py",
   "mimetype": "text/x-python",
   "name": "python",
   "nbconvert_exporter": "python",
   "pygments_lexer": "ipython3",
   "version": "3.12.8"
  }
 },
 "nbformat": 4,
 "nbformat_minor": 5
}
